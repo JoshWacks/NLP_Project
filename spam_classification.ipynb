{
 "cells": [
  {
   "cell_type": "markdown",
   "metadata": {},
   "source": [
    "## Name: Joshua Wacks<br />Student Number: 2143116<br />Project Choice: Project 1 – Spam Classification Using Naïve Baye"
   ]
  },
  {
   "cell_type": "code",
   "execution_count": 1,
   "metadata": {},
   "outputs": [
    {
     "name": "stderr",
     "output_type": "stream",
     "text": [
      "WARNING: Ignoring invalid distribution -pencv-python (c:\\users\\joshu\\appdata\\local\\programs\\python\\python39\\lib\\site-packages)\n",
      "WARNING: Ignoring invalid distribution -illow (c:\\users\\joshu\\appdata\\local\\programs\\python\\python39\\lib\\site-packages)\n",
      "WARNING: Ignoring invalid distribution -cikit-learn (c:\\users\\joshu\\appdata\\local\\programs\\python\\python39\\lib\\site-packages)\n",
      "WARNING: Ignoring invalid distribution -pencv-python (c:\\users\\joshu\\appdata\\local\\programs\\python\\python39\\lib\\site-packages)\n",
      "WARNING: Ignoring invalid distribution -illow (c:\\users\\joshu\\appdata\\local\\programs\\python\\python39\\lib\\site-packages)\n",
      "WARNING: Ignoring invalid distribution -cikit-learn (c:\\users\\joshu\\appdata\\local\\programs\\python\\python39\\lib\\site-packages)\n",
      "WARNING: Ignoring invalid distribution -pencv-python (c:\\users\\joshu\\appdata\\local\\programs\\python\\python39\\lib\\site-packages)\n",
      "WARNING: Ignoring invalid distribution -illow (c:\\users\\joshu\\appdata\\local\\programs\\python\\python39\\lib\\site-packages)\n",
      "WARNING: Ignoring invalid distribution -cikit-learn (c:\\users\\joshu\\appdata\\local\\programs\\python\\python39\\lib\\site-packages)\n",
      "WARNING: Ignoring invalid distribution -pencv-python (c:\\users\\joshu\\appdata\\local\\programs\\python\\python39\\lib\\site-packages)\n",
      "WARNING: Ignoring invalid distribution -illow (c:\\users\\joshu\\appdata\\local\\programs\\python\\python39\\lib\\site-packages)\n",
      "WARNING: Ignoring invalid distribution -cikit-learn (c:\\users\\joshu\\appdata\\local\\programs\\python\\python39\\lib\\site-packages)\n",
      "WARNING: Ignoring invalid distribution -pencv-python (c:\\users\\joshu\\appdata\\local\\programs\\python\\python39\\lib\\site-packages)\n",
      "WARNING: Ignoring invalid distribution -illow (c:\\users\\joshu\\appdata\\local\\programs\\python\\python39\\lib\\site-packages)\n",
      "WARNING: Ignoring invalid distribution -cikit-learn (c:\\users\\joshu\\appdata\\local\\programs\\python\\python39\\lib\\site-packages)\n",
      "WARNING: Ignoring invalid distribution -pencv-python (c:\\users\\joshu\\appdata\\local\\programs\\python\\python39\\lib\\site-packages)\n",
      "WARNING: Ignoring invalid distribution -illow (c:\\users\\joshu\\appdata\\local\\programs\\python\\python39\\lib\\site-packages)\n",
      "WARNING: Ignoring invalid distribution -cikit-learn (c:\\users\\joshu\\appdata\\local\\programs\\python\\python39\\lib\\site-packages)\n"
     ]
    },
    {
     "name": "stdout",
     "output_type": "stream",
     "text": [
      "Requirement already satisfied: sklearn in c:\\users\\joshu\\appdata\\local\\programs\\python\\python39\\lib\\site-packages (0.0)\n",
      "Requirement already satisfied: scikit-learn in c:\\users\\joshu\\appdata\\local\\programs\\python\\python39\\lib\\site-packages (from sklearn) (1.1.1)\n",
      "Requirement already satisfied: numpy>=1.17.3 in c:\\users\\joshu\\appdata\\local\\programs\\python\\python39\\lib\\site-packages (from scikit-learn->sklearn) (1.21.6)\n",
      "Requirement already satisfied: threadpoolctl>=2.0.0 in c:\\users\\joshu\\appdata\\local\\programs\\python\\python39\\lib\\site-packages (from scikit-learn->sklearn) (3.1.0)\n",
      "Requirement already satisfied: scipy>=1.3.2 in c:\\users\\joshu\\appdata\\local\\programs\\python\\python39\\lib\\site-packages (from scikit-learn->sklearn) (1.8.1)\n",
      "Requirement already satisfied: joblib>=1.0.0 in c:\\users\\joshu\\appdata\\local\\programs\\python\\python39\\lib\\site-packages (from scikit-learn->sklearn) (1.1.0)\n"
     ]
    },
    {
     "name": "stderr",
     "output_type": "stream",
     "text": [
      "WARNING: Ignoring invalid distribution -pencv-python (c:\\users\\joshu\\appdata\\local\\programs\\python\\python39\\lib\\site-packages)\n",
      "WARNING: Ignoring invalid distribution -illow (c:\\users\\joshu\\appdata\\local\\programs\\python\\python39\\lib\\site-packages)\n",
      "WARNING: Ignoring invalid distribution -cikit-learn (c:\\users\\joshu\\appdata\\local\\programs\\python\\python39\\lib\\site-packages)\n",
      "WARNING: Ignoring invalid distribution -pencv-python (c:\\users\\joshu\\appdata\\local\\programs\\python\\python39\\lib\\site-packages)\n",
      "WARNING: Ignoring invalid distribution -illow (c:\\users\\joshu\\appdata\\local\\programs\\python\\python39\\lib\\site-packages)\n",
      "WARNING: Ignoring invalid distribution -cikit-learn (c:\\users\\joshu\\appdata\\local\\programs\\python\\python39\\lib\\site-packages)\n",
      "WARNING: Ignoring invalid distribution -pencv-python (c:\\users\\joshu\\appdata\\local\\programs\\python\\python39\\lib\\site-packages)\n",
      "WARNING: Ignoring invalid distribution -illow (c:\\users\\joshu\\appdata\\local\\programs\\python\\python39\\lib\\site-packages)\n",
      "WARNING: Ignoring invalid distribution -cikit-learn (c:\\users\\joshu\\appdata\\local\\programs\\python\\python39\\lib\\site-packages)\n",
      "WARNING: Ignoring invalid distribution -pencv-python (c:\\users\\joshu\\appdata\\local\\programs\\python\\python39\\lib\\site-packages)\n",
      "WARNING: Ignoring invalid distribution -illow (c:\\users\\joshu\\appdata\\local\\programs\\python\\python39\\lib\\site-packages)\n",
      "WARNING: Ignoring invalid distribution -cikit-learn (c:\\users\\joshu\\appdata\\local\\programs\\python\\python39\\lib\\site-packages)\n",
      "WARNING: Ignoring invalid distribution -pencv-python (c:\\users\\joshu\\appdata\\local\\programs\\python\\python39\\lib\\site-packages)\n",
      "WARNING: Ignoring invalid distribution -illow (c:\\users\\joshu\\appdata\\local\\programs\\python\\python39\\lib\\site-packages)\n",
      "WARNING: Ignoring invalid distribution -cikit-learn (c:\\users\\joshu\\appdata\\local\\programs\\python\\python39\\lib\\site-packages)\n",
      "WARNING: Ignoring invalid distribution -pencv-python (c:\\users\\joshu\\appdata\\local\\programs\\python\\python39\\lib\\site-packages)\n",
      "WARNING: Ignoring invalid distribution -illow (c:\\users\\joshu\\appdata\\local\\programs\\python\\python39\\lib\\site-packages)\n",
      "WARNING: Ignoring invalid distribution -cikit-learn (c:\\users\\joshu\\appdata\\local\\programs\\python\\python39\\lib\\site-packages)\n"
     ]
    }
   ],
   "source": [
    "import warnings\n",
    "warnings.filterwarnings(\"ignore\")\n",
    "\n",
    "!pip install PrettyTable --quiet\n",
    "# !pip install seaborn\n",
    "# !pip install collections\n",
    "!pip install sklearn"
   ]
  },
  {
   "cell_type": "code",
   "execution_count": 2,
   "metadata": {},
   "outputs": [],
   "source": [
    "\n",
    "#important library to organise output\n",
    "\n",
    "import pandas as pd\n",
    "import string\n",
    "import re\n",
    "from nltk.corpus import stopwords\n",
    "import numpy as np\n",
    "from collections import Counter\n",
    "import sklearn\n",
    "from prettytable import PrettyTable\n",
    "import matplotlib.pyplot as plt\n",
    "import seaborn as sns"
   ]
  },
  {
   "cell_type": "markdown",
   "metadata": {},
   "source": [
    "### 1. Preprocess the data, tokenize the text, and get a list of words for each sentence. [10 marks]"
   ]
  },
  {
   "cell_type": "code",
   "execution_count": 3,
   "metadata": {},
   "outputs": [],
   "source": [
    "stopwords_english = stopwords.words('english')"
   ]
  },
  {
   "cell_type": "code",
   "execution_count": 4,
   "metadata": {},
   "outputs": [],
   "source": [
    "# with open('currencies.txt',encoding=\"utf8\") as file:\n",
    "# \tprint(file.read().splitlines())"
   ]
  },
  {
   "cell_type": "markdown",
   "metadata": {},
   "source": [
    "TODO Take a look at stemming or lemming the words or just using NLTK preprocessing\n",
    "\n",
    "TODO Implement technique to not take out currencies for improved model"
   ]
  },
  {
   "cell_type": "code",
   "execution_count": 5,
   "metadata": {},
   "outputs": [],
   "source": [
    "def preprocess_data(table):\n",
    "\t#We remove all \\r,\\n tokens from the string\n",
    "\ttable['text'] = table.text.apply(lambda x: re.sub(r'\\r','',x))\n",
    "\ttable['text'] = table.text.apply(lambda x: re.sub(r'\\n',' ',x))\n",
    " \n",
    "\t#Removing the word subject from the string as all the emails have it\n",
    "\ttable['text'] = table.text.apply(lambda x: re.sub(r'Subject:','',x))\n",
    " \n",
    "\t#Removing all punctuation\n",
    "\ttable['text'] = table.text.apply(lambda x: x.translate(str.maketrans('','',string.punctuation)))\n",
    " \n",
    "\t#Removing all spaces and empty strings from after split\n",
    "\ttable['text'] = table.text.apply(lambda x: list(filter(None,x.split(' '))))\n",
    " \n",
    "\t#Removing stop words,case folding \n",
    "\ttable['text'] = table.text.apply(lambda x: [(word.lower()) for word in x if word not in stopwords_english])\n",
    "\t\n",
    "\t\n",
    "\t\n",
    "\t"
   ]
  },
  {
   "cell_type": "code",
   "execution_count": 6,
   "metadata": {},
   "outputs": [
    {
     "data": {
      "text/html": [
       "<div>\n",
       "<style scoped>\n",
       "    .dataframe tbody tr th:only-of-type {\n",
       "        vertical-align: middle;\n",
       "    }\n",
       "\n",
       "    .dataframe tbody tr th {\n",
       "        vertical-align: top;\n",
       "    }\n",
       "\n",
       "    .dataframe thead th {\n",
       "        text-align: right;\n",
       "    }\n",
       "</style>\n",
       "<table border=\"1\" class=\"dataframe\">\n",
       "  <thead>\n",
       "    <tr style=\"text-align: right;\">\n",
       "      <th></th>\n",
       "      <th>text</th>\n",
       "      <th>label</th>\n",
       "    </tr>\n",
       "  </thead>\n",
       "  <tbody>\n",
       "    <tr>\n",
       "      <th>0</th>\n",
       "      <td>[thank, ami, daren, wanted, say, thanks, great...</td>\n",
       "      <td>0</td>\n",
       "    </tr>\n",
       "    <tr>\n",
       "      <th>1</th>\n",
       "      <td>[spot, firm, tickets, vance, following, nomina...</td>\n",
       "      <td>0</td>\n",
       "    </tr>\n",
       "    <tr>\n",
       "      <th>2</th>\n",
       "      <td>[software, microsoft, windows, xp, professiozn...</td>\n",
       "      <td>1</td>\n",
       "    </tr>\n",
       "    <tr>\n",
       "      <th>3</th>\n",
       "      <td>[noms, actual, flow, 2, 27, agree, forwarded, ...</td>\n",
       "      <td>0</td>\n",
       "    </tr>\n",
       "    <tr>\n",
       "      <th>4</th>\n",
       "      <td>[superb, ftware, youll, discover, awesome, sof...</td>\n",
       "      <td>1</td>\n",
       "    </tr>\n",
       "  </tbody>\n",
       "</table>\n",
       "</div>"
      ],
      "text/plain": [
       "                                                text  label\n",
       "0  [thank, ami, daren, wanted, say, thanks, great...      0\n",
       "1  [spot, firm, tickets, vance, following, nomina...      0\n",
       "2  [software, microsoft, windows, xp, professiozn...      1\n",
       "3  [noms, actual, flow, 2, 27, agree, forwarded, ...      0\n",
       "4  [superb, ftware, youll, discover, awesome, sof...      1"
      ]
     },
     "execution_count": 6,
     "metadata": {},
     "output_type": "execute_result"
    }
   ],
   "source": [
    "train_tokenized = pd.read_csv('train.csv')\n",
    "preprocess_data(train_tokenized)\n",
    "train_tokenized.head()"
   ]
  },
  {
   "cell_type": "code",
   "execution_count": 7,
   "metadata": {},
   "outputs": [
    {
     "data": {
      "text/html": [
       "<div>\n",
       "<style scoped>\n",
       "    .dataframe tbody tr th:only-of-type {\n",
       "        vertical-align: middle;\n",
       "    }\n",
       "\n",
       "    .dataframe tbody tr th {\n",
       "        vertical-align: top;\n",
       "    }\n",
       "\n",
       "    .dataframe thead th {\n",
       "        text-align: right;\n",
       "    }\n",
       "</style>\n",
       "<table border=\"1\" class=\"dataframe\">\n",
       "  <thead>\n",
       "    <tr style=\"text-align: right;\">\n",
       "      <th></th>\n",
       "      <th>text</th>\n",
       "      <th>label</th>\n",
       "    </tr>\n",
       "  </thead>\n",
       "  <tbody>\n",
       "    <tr>\n",
       "      <th>0</th>\n",
       "      <td>[viagra, cialis, levitra, ambien, valium, xana...</td>\n",
       "      <td>1</td>\n",
       "    </tr>\n",
       "    <tr>\n",
       "      <th>1</th>\n",
       "      <td>[october, wellhead, vance, deal, 420022, creat...</td>\n",
       "      <td>0</td>\n",
       "    </tr>\n",
       "    <tr>\n",
       "      <th>2</th>\n",
       "      <td>[fw, danger, phenylpropanolamine, original, me...</td>\n",
       "      <td>0</td>\n",
       "    </tr>\n",
       "    <tr>\n",
       "      <th>3</th>\n",
       "      <td>[chea, p, software, looking, extremely, cheap,...</td>\n",
       "      <td>1</td>\n",
       "    </tr>\n",
       "    <tr>\n",
       "      <th>4</th>\n",
       "      <td>[mother, may, find, remove, larvae, adolescent...</td>\n",
       "      <td>1</td>\n",
       "    </tr>\n",
       "  </tbody>\n",
       "</table>\n",
       "</div>"
      ],
      "text/plain": [
       "                                                text  label\n",
       "0  [viagra, cialis, levitra, ambien, valium, xana...      1\n",
       "1  [october, wellhead, vance, deal, 420022, creat...      0\n",
       "2  [fw, danger, phenylpropanolamine, original, me...      0\n",
       "3  [chea, p, software, looking, extremely, cheap,...      1\n",
       "4  [mother, may, find, remove, larvae, adolescent...      1"
      ]
     },
     "execution_count": 7,
     "metadata": {},
     "output_type": "execute_result"
    }
   ],
   "source": [
    "val_tokenized = pd.read_csv('val.csv')\n",
    "preprocess_data(val_tokenized)\n",
    "val_tokenized.head()"
   ]
  },
  {
   "cell_type": "code",
   "execution_count": 8,
   "metadata": {},
   "outputs": [
    {
     "data": {
      "text/html": [
       "<div>\n",
       "<style scoped>\n",
       "    .dataframe tbody tr th:only-of-type {\n",
       "        vertical-align: middle;\n",
       "    }\n",
       "\n",
       "    .dataframe tbody tr th {\n",
       "        vertical-align: top;\n",
       "    }\n",
       "\n",
       "    .dataframe thead th {\n",
       "        text-align: right;\n",
       "    }\n",
       "</style>\n",
       "<table border=\"1\" class=\"dataframe\">\n",
       "  <thead>\n",
       "    <tr style=\"text-align: right;\">\n",
       "      <th></th>\n",
       "      <th>text</th>\n",
       "      <th>label</th>\n",
       "    </tr>\n",
       "  </thead>\n",
       "  <tbody>\n",
       "    <tr>\n",
       "      <th>0</th>\n",
       "      <td>[prc, meeting, agenda, recap, clarify, discuss...</td>\n",
       "      <td>0</td>\n",
       "    </tr>\n",
       "    <tr>\n",
       "      <th>1</th>\n",
       "      <td>[enron, actuals, april, 4, 2001, estimated, ac...</td>\n",
       "      <td>0</td>\n",
       "    </tr>\n",
       "    <tr>\n",
       "      <th>2</th>\n",
       "      <td>[february, surveys, hello, starting, prepare, ...</td>\n",
       "      <td>0</td>\n",
       "    </tr>\n",
       "    <tr>\n",
       "      <th>3</th>\n",
       "      <td>[today, orchard, guei, republic, cote, ivoire,...</td>\n",
       "      <td>1</td>\n",
       "    </tr>\n",
       "    <tr>\n",
       "      <th>4</th>\n",
       "      <td>[8, 00, assignment, termination, expiration, r...</td>\n",
       "      <td>0</td>\n",
       "    </tr>\n",
       "  </tbody>\n",
       "</table>\n",
       "</div>"
      ],
      "text/plain": [
       "                                                text  label\n",
       "0  [prc, meeting, agenda, recap, clarify, discuss...      0\n",
       "1  [enron, actuals, april, 4, 2001, estimated, ac...      0\n",
       "2  [february, surveys, hello, starting, prepare, ...      0\n",
       "3  [today, orchard, guei, republic, cote, ivoire,...      1\n",
       "4  [8, 00, assignment, termination, expiration, r...      0"
      ]
     },
     "execution_count": 8,
     "metadata": {},
     "output_type": "execute_result"
    }
   ],
   "source": [
    "test_tokenized = pd.read_csv('test.csv')\n",
    "preprocess_data(test_tokenized)\n",
    "test_tokenized.head()"
   ]
  },
  {
   "cell_type": "code",
   "execution_count": 9,
   "metadata": {},
   "outputs": [
    {
     "name": "stdout",
     "output_type": "stream",
     "text": [
      "Training Size: 3102\n",
      "Validation Size: 1035\n",
      "Test Size: 1034\n",
      "\n"
     ]
    }
   ],
   "source": [
    "print(F'Training Size: {len(train_tokenized)}\\nValidation Size: {len(val_tokenized)}\\nTest Size: {len(test_tokenized)}\\n')"
   ]
  },
  {
   "cell_type": "markdown",
   "metadata": {},
   "source": [
    "### 2. Train a standard Naive Bayes model. Call this Model1 [10 marks]."
   ]
  },
  {
   "cell_type": "markdown",
   "metadata": {},
   "source": [
    "#### Extractring a Vocabulary"
   ]
  },
  {
   "cell_type": "code",
   "execution_count": 10,
   "metadata": {},
   "outputs": [],
   "source": [
    "def get_vocabulary(data):\n",
    "\tall_text = data.explode('text')['text']\n",
    "\tvocab = set(all_text)\n",
    "\treturn vocab"
   ]
  },
  {
   "cell_type": "markdown",
   "metadata": {},
   "source": [
    "#### Calculating the prior for both the positive and negative classes"
   ]
  },
  {
   "cell_type": "code",
   "execution_count": 11,
   "metadata": {},
   "outputs": [],
   "source": [
    "def calculate_priors(data):\n",
    "\t\n",
    "\tnum_spam = len(train_tokenized[train_tokenized['label']  == 1])\n",
    "\tnum_not_spam = len(train_tokenized[train_tokenized['label']  == 0])\n",
    "\tnum_total = num_spam + num_not_spam\n",
    "\n",
    "\tprior_spam = num_spam / num_total\n",
    "\tprior_not_spam = num_not_spam / num_total\n",
    "\t\n",
    "\t\n",
    "\treturn prior_spam, prior_not_spam"
   ]
  },
  {
   "cell_type": "markdown",
   "metadata": {},
   "source": [
    "#### Calculating Word Frequencies"
   ]
  },
  {
   "cell_type": "code",
   "execution_count": 12,
   "metadata": {},
   "outputs": [],
   "source": [
    "def count_word_frequency(data):\n",
    "\tword_freq = dict()\n",
    "\n",
    "\tfor i in [0,1]:\n",
    "\t\tclass_data = data[data['label']  == i]\n",
    "\t\tclass_data = data[data['label']  == i]\n",
    "\t\tall_text = class_data.explode('text')['text']\n",
    "\t\ttemp_dict = dict(Counter(all_text))\n",
    "  \n",
    "\t\tkeys = [(k,i) for k in temp_dict.keys()]\n",
    "\n",
    "\t\tdict_new = dict(zip(keys,temp_dict.values()))\n",
    "\t\tword_freq.update(dict_new)\n",
    "\t\n",
    "\treturn word_freq\n",
    "  \n",
    "\t\n"
   ]
  },
  {
   "cell_type": "markdown",
   "metadata": {},
   "source": [
    "#### Calculating and storing the probabilities of all words"
   ]
  },
  {
   "cell_type": "code",
   "execution_count": 13,
   "metadata": {},
   "outputs": [],
   "source": [
    "def calc_prob(freq_dicts,vocab,k=1):\n",
    "\tprob_dict = {}\n",
    "    \n",
    "\tvocab_length = len(vocab)\n",
    "\tspam_vocab_length = len(get_vocabulary(train_tokenized[train_tokenized['label']  == 1]))\n",
    "\tnot_spam_vocab_length = len(get_vocabulary(train_tokenized[train_tokenized['label']  == 0]))\n",
    "\t\n",
    "\tfor word in vocab:\n",
    "\t\tmy_key = tuple([word,0])\n",
    "\t\tif my_key in freq_dicts:\n",
    "\t\t\tprob_dict[my_key] = ( freq_dicts[my_key] + k)/(not_spam_vocab_length + k*vocab_length)\n",
    "\t\telse:\n",
    "\t\t\tprob_dict[my_key] = k/(not_spam_vocab_length + k*vocab_length)\n",
    "\n",
    "\t\tmy_key = tuple([word,1])\n",
    "\t\tif my_key in freq_dicts:\n",
    "\t\t\tprob_dict[my_key] = (freq_dicts[my_key] + k)/(spam_vocab_length + k*vocab_length)\n",
    "\t\telse:\n",
    "\t\t\tprob_dict[my_key] = k/(spam_vocab_length + k*vocab_length)\n",
    "\t\t\n",
    "\treturn prob_dict"
   ]
  },
  {
   "cell_type": "markdown",
   "metadata": {},
   "source": [
    "#### Calculating the probability that a given email is spam or not"
   ]
  },
  {
   "cell_type": "code",
   "execution_count": 14,
   "metadata": {},
   "outputs": [],
   "source": [
    "def predict_class(email, prior_pos, prior_neg, prob_dict, vocab):\n",
    "\t# YOUR CODE HERE\n",
    "\tprob_pos = np.log(prior_pos)\n",
    "\tprob_neg = np.log(prior_neg)\n",
    "\t\n",
    "\tfor word in email:\n",
    "\t\tif word in vocab:\n",
    "\t\t\tmy_key = tuple([word,1])\n",
    "\t\t\tprob_pos = prob_pos + np.log(prob_dict[my_key])\n",
    "   \n",
    "\t\t\tmy_key = tuple([word,0])\n",
    "\t\t\tprob_neg = prob_neg + np.log(prob_dict[my_key])\n",
    "\treturn prob_pos, prob_neg"
   ]
  },
  {
   "cell_type": "markdown",
   "metadata": {},
   "source": [
    "#### Building a model given a set of features"
   ]
  },
  {
   "cell_type": "code",
   "execution_count": 15,
   "metadata": {},
   "outputs": [],
   "source": [
    "class Model:\n",
    "    \n",
    "\tdef __init__(self,features):\n",
    "\t\tself.vocab = get_vocabulary(features)\n",
    "\t\t\n",
    "\t\tself.prior_spam, self.prior_not_spam = calculate_priors(features)\n",
    "\t\n",
    "\t\tself.word_freq = count_word_frequency(features)\n",
    "\t\n",
    "\t\tself.prob_dict = calc_prob(self.word_freq,self.vocab)\n",
    "  \n",
    "\tdef model_info(self):\n",
    "\t\tprint('Vocabulary: ',list(self.vocab)[:5])\n",
    "\t\tprint('Priors: ',self.prior_spam, self.prior_not_spam)\n",
    "\t\tprint('Word Frequncies: ',list(self.word_freq.keys())[:5],list(self.word_freq.values())[:5])\n",
    "\t\tprint('Word Probabilities: ',list(self.prob_dict.keys())[:5],list(self.prob_dict.values())[:5])\n",
    "  \n",
    "\tdef predict_class(self,email):\n",
    "\t\tprob_pos = np.log(self.prior_spam)\n",
    "\t\tprob_neg = np.log(self.prior_not_spam)\n",
    "  \n",
    "\t\tfor word in email:\n",
    "\t\t\tif word in self.vocab:\n",
    "\t\t\t\tmy_key = tuple([word,1])\n",
    "\t\t\t\tprob_pos = prob_pos + np.log(self.prob_dict[my_key])\n",
    "\t\n",
    "\t\t\t\tmy_key = tuple([word,0])\n",
    "\t\t\t\tprob_neg = prob_neg + np.log(self.prob_dict[my_key])\n",
    "\t\treturn prob_pos, prob_neg\n",
    "  "
   ]
  },
  {
   "cell_type": "markdown",
   "metadata": {},
   "source": [
    "### 2. Train a standard Naive Bayes model. Call this Model1 [10 marks]."
   ]
  },
  {
   "cell_type": "code",
   "execution_count": 16,
   "metadata": {},
   "outputs": [],
   "source": [
    "M1 = Model(train_tokenized)"
   ]
  },
  {
   "cell_type": "markdown",
   "metadata": {},
   "source": [
    "### 3. Train 4 additional Naïve Bayes models with the following variations: "
   ]
  },
  {
   "cell_type": "markdown",
   "metadata": {},
   "source": [
    "#### a. Use only the 10 most frequent words as features. Call this Model2 [10 marks]"
   ]
  },
  {
   "cell_type": "code",
   "execution_count": 17,
   "metadata": {},
   "outputs": [
    {
     "name": "stdout",
     "output_type": "stream",
     "text": [
      "The 10 most frquent words are:  ['ect', 'hou', 'enron', '2000', 'com', 'please', 'gas', 'deal', 'subject', '3']\n"
     ]
    }
   ],
   "source": [
    "all_words = train_tokenized.explode('text')['text']\n",
    "word_count = dict(Counter(all_words))\n",
    "word_count_sorted =  dict(sorted(word_count.items(), key=lambda item: item[1],reverse=True))\n",
    "ten_most_frequent_words = list(word_count_sorted.keys())[:10]\n",
    "print(\"The 10 most frquent words are: \",ten_most_frequent_words)"
   ]
  },
  {
   "cell_type": "markdown",
   "metadata": {},
   "source": [
    "#### Changing the data to only include these words"
   ]
  },
  {
   "cell_type": "code",
   "execution_count": 18,
   "metadata": {},
   "outputs": [],
   "source": [
    "train_tokenized_ten_frequent = train_tokenized.copy()\n",
    "train_tokenized_ten_frequent['text'] = train_tokenized_ten_frequent.text.apply(lambda x: [word for word in x if word in ten_most_frequent_words])\n",
    "\n",
    "M2 = Model(train_tokenized_ten_frequent)\n"
   ]
  },
  {
   "cell_type": "markdown",
   "metadata": {},
   "source": [
    "#### b. Use only the 100 most frequent words as features. Call this Model3 [10 marks]."
   ]
  },
  {
   "cell_type": "code",
   "execution_count": 19,
   "metadata": {},
   "outputs": [
    {
     "name": "stdout",
     "output_type": "stream",
     "text": [
      "The 100 most frquent words are:  ['ect', 'hou', 'enron', '2000', 'com', 'please', 'gas', 'deal', 'subject', '3', '1', 'meter', 'hpl', 'cc', '2', '00', 'pm', '000', '10', 'e', '2001', 'daren', 'thanks', '01', 'corp', 'know', '5', '4', 'new', 'need', '11', '12', 'j', '0', 'may', 'mmbtu', 'forwarded', 'see', 'get', 'http', 'company', 'price', '03', 'let', 'information', 'farmer', 'attached', '99', 'l', '7', 'would', 'xls', '6', 'day', 'th', '02', 'contract', '9', 'time', 'one', 'us', 'robert', 'message', '8', '30', '04', '05', 'volume', 'mail', 'month', '08', 'net', 'volumes', '20', 'p', 'deals', 'sitara', '15', 'texas', '09', 'email', 'questions', 'ena', 'nom', 'energy', 'also', 'sent', 'www', 'file', 'flow', 'change', 'x', 'like', 'pec', 'call', 'production', 'b', 'bob', '31', '06']\n"
     ]
    }
   ],
   "source": [
    "hundred_most_frequent_words = list(word_count_sorted.keys())[:100]\n",
    "print(\"The 100 most frquent words are: \",hundred_most_frequent_words)\n"
   ]
  },
  {
   "cell_type": "code",
   "execution_count": 20,
   "metadata": {},
   "outputs": [],
   "source": [
    "train_tokenized_hundred_frequent = train_tokenized.copy()\n",
    "train_tokenized_hundred_frequent['text'] = train_tokenized_hundred_frequent.text.apply(lambda x: [word for word in x if word in hundred_most_frequent_words])\n",
    "\n",
    "M3 = Model(train_tokenized_hundred_frequent)"
   ]
  },
  {
   "cell_type": "markdown",
   "metadata": {},
   "source": [
    "#### c. Remove the 100 most frequent words from the features. Call this Model4 [10 marks]"
   ]
  },
  {
   "cell_type": "code",
   "execution_count": 21,
   "metadata": {},
   "outputs": [],
   "source": [
    "train_tokenized_not_hundred_frequent = train_tokenized.copy()\n",
    "train_tokenized_not_hundred_frequent['text'] = train_tokenized_not_hundred_frequent.text.apply(lambda x: [word for word in x if word not in hundred_most_frequent_words])\n",
    "\n",
    "M4 = Model(train_tokenized_not_hundred_frequent)"
   ]
  },
  {
   "cell_type": "markdown",
   "metadata": {},
   "source": [
    "#### d. Use only the subject line (see the data) as the feature set. Call this Model5 [10 marks]"
   ]
  },
  {
   "cell_type": "markdown",
   "metadata": {},
   "source": [
    "TODO Unsure if I should remove stop words here"
   ]
  },
  {
   "cell_type": "code",
   "execution_count": 22,
   "metadata": {},
   "outputs": [],
   "source": [
    "\n",
    "def preprocess_data_only_subject(table):\n",
    "\t#We remove all \\r,\\n tokens from the string\n",
    "\t\n",
    "\ttable['text'] = table.text.apply(lambda x: x[x.index(':')+1:x.index('\\n')]) # Getting only the subject first\n",
    "\t\n",
    "\ttable['text'] = table.text.apply(lambda x: re.sub(r'\\r','',x))\n",
    "\ttable['text'] = table.text.apply(lambda x: re.sub(r'\\n',' ',x))\n",
    " \n",
    "\ttable['text'] = table.text.apply(lambda x: x.translate(str.maketrans('','',string.punctuation)))\n",
    " \n",
    "\ttable['text'] = table.text.apply(lambda x: list(filter(None,x.split(' '))))\n",
    "\ttable['text'] = table.text.apply(lambda x: [(word.lower()) for word in x ])\n",
    " \n",
    "\t# table['text'] = table.text.apply(lambda x: [(word.lower()) for word in x if word not in stopwords_english])\n",
    "\t\n",
    "\t\n",
    "\t\n",
    "\t"
   ]
  },
  {
   "cell_type": "code",
   "execution_count": 23,
   "metadata": {},
   "outputs": [
    {
     "data": {
      "text/html": [
       "<div>\n",
       "<style scoped>\n",
       "    .dataframe tbody tr th:only-of-type {\n",
       "        vertical-align: middle;\n",
       "    }\n",
       "\n",
       "    .dataframe tbody tr th {\n",
       "        vertical-align: top;\n",
       "    }\n",
       "\n",
       "    .dataframe thead th {\n",
       "        text-align: right;\n",
       "    }\n",
       "</style>\n",
       "<table border=\"1\" class=\"dataframe\">\n",
       "  <thead>\n",
       "    <tr style=\"text-align: right;\">\n",
       "      <th></th>\n",
       "      <th>text</th>\n",
       "      <th>label</th>\n",
       "    </tr>\n",
       "  </thead>\n",
       "  <tbody>\n",
       "    <tr>\n",
       "      <th>0</th>\n",
       "      <td>[thank, you]</td>\n",
       "      <td>0</td>\n",
       "    </tr>\n",
       "    <tr>\n",
       "      <th>1</th>\n",
       "      <td>[spot, or, firm, tickets]</td>\n",
       "      <td>0</td>\n",
       "    </tr>\n",
       "    <tr>\n",
       "      <th>2</th>\n",
       "      <td>[software]</td>\n",
       "      <td>1</td>\n",
       "    </tr>\n",
       "    <tr>\n",
       "      <th>3</th>\n",
       "      <td>[noms, actual, flow, for, 2, 27]</td>\n",
       "      <td>0</td>\n",
       "    </tr>\n",
       "    <tr>\n",
       "      <th>4</th>\n",
       "      <td>[superb, so, ftware]</td>\n",
       "      <td>1</td>\n",
       "    </tr>\n",
       "  </tbody>\n",
       "</table>\n",
       "</div>"
      ],
      "text/plain": [
       "                               text  label\n",
       "0                      [thank, you]      0\n",
       "1         [spot, or, firm, tickets]      0\n",
       "2                        [software]      1\n",
       "3  [noms, actual, flow, for, 2, 27]      0\n",
       "4              [superb, so, ftware]      1"
      ]
     },
     "execution_count": 23,
     "metadata": {},
     "output_type": "execute_result"
    }
   ],
   "source": [
    "train_subject_only = pd.read_csv('train.csv')\n",
    "preprocess_data_only_subject(train_subject_only)\n",
    "train_subject_only.head()"
   ]
  },
  {
   "cell_type": "code",
   "execution_count": 24,
   "metadata": {},
   "outputs": [],
   "source": [
    "M5 = Model(train_subject_only)"
   ]
  },
  {
   "cell_type": "markdown",
   "metadata": {},
   "source": [
    "## 4. Evaluate the performance of the first model and all 4 variations using the validation set. \n"
   ]
  },
  {
   "cell_type": "markdown",
   "metadata": {},
   "source": [
    "### a. Calculate the evaluation metrics [10 marks].\n"
   ]
  },
  {
   "cell_type": "code",
   "execution_count": 25,
   "metadata": {},
   "outputs": [],
   "source": [
    "def show_confu_matrix(name,model,data):\n",
    "\ttokenized_pred = data.copy()\n",
    "\ttokenized_pred['predicted_label'] = tokenized_pred.text.apply(lambda x: 1 if model.predict_class(x)[0] > model.predict_class(x)[1] else 0)\n",
    "\tcf_matrix = sklearn.metrics.confusion_matrix(tokenized_pred['label'],tokenized_pred['predicted_label'])\n",
    " \n",
    "\tg = sns.heatmap(cf_matrix,annot=True, fmt=\".1f\")\n",
    "\tplt.xlabel('Predicted')\n",
    "\tplt.ylabel('True')\n",
    "\tplt.title(F'The confusion matrix for model {name}')\n",
    "\tplt.show()\n",
    "\t\n",
    "def eval_model(model,data):\n",
    "\ttokenized_pred = data.copy()\n",
    "\ttokenized_pred['predicted_label'] = tokenized_pred.text.apply(lambda x: 1 if model.predict_class(x)[0] > model.predict_class(x)[1] else 0)\n",
    " \n",
    "\ttable = PrettyTable()\n",
    "\ttable.field_names = ['Metric','Value']\n",
    "\ttable.add_row(['Accuracy',sklearn.metrics.accuracy_score(tokenized_pred['label'],tokenized_pred['predicted_label'])])\n",
    "\ttable.add_row(['F1 Score',sklearn.metrics.f1_score(tokenized_pred['label'],tokenized_pred['predicted_label'])])\n",
    "\ttable.add_row(['Precision',sklearn.metrics.precision_score(tokenized_pred['label'],tokenized_pred['predicted_label'])])\n",
    "\ttable.add_row(['Recall',sklearn.metrics.recall_score(tokenized_pred['label'],tokenized_pred['predicted_label'])])\n",
    "\n",
    "\treturn table\t\n",
    "\n",
    "def compare_all_models(models,names,data):\n",
    "\ttable = PrettyTable()\n",
    "\ttable.field_names = ['Model','Accuracy','F1 Score','Precision','Recall']\n",
    "\tfor name,model in zip(names,models):\n",
    "\t\ttokenized_pred = data.copy()\n",
    "\t\ttokenized_pred['predicted_label'] = tokenized_pred.text.apply(lambda x: 1 if model.predict_class(x)[0] > model.predict_class(x)[1] else 0)\n",
    "\t\ttable.add_row([name,sklearn.metrics.accuracy_score(tokenized_pred['label'],tokenized_pred['predicted_label']),\n",
    "\t\t\t\t sklearn.metrics.f1_score(tokenized_pred['label'],tokenized_pred['predicted_label']),\n",
    "\t\t\t\t sklearn.metrics.precision_score(tokenized_pred['label'],tokenized_pred['predicted_label']),\n",
    "\t\t\t\t sklearn.metrics.recall_score(tokenized_pred['label'],tokenized_pred['predicted_label'])\n",
    "\t\t\t\t ])\n",
    "  \n",
    "\treturn table"
   ]
  },
  {
   "cell_type": "code",
   "execution_count": 26,
   "metadata": {},
   "outputs": [
    {
     "data": {
      "image/png": "[encoded data removed]",
      "text/plain": [
       "<Figure size 432x288 with 2 Axes>"
      ]
     },
     "metadata": {
      "needs_background": "light"
     },
     "output_type": "display_data"
    },
    {
     "data": {
      "image/png": "[encoded data removed]",
      "text/plain": [
       "<Figure size 432x288 with 2 Axes>"
      ]
     },
     "metadata": {
      "needs_background": "light"
     },
     "output_type": "display_data"
    },
    {
     "data": {
      "image/png": "[encoded data removed]",
      "text/plain": [
       "<Figure size 432x288 with 2 Axes>"
      ]
     },
     "metadata": {
      "needs_background": "light"
     },
     "output_type": "display_data"
    },
    {
     "data": {
      "image/png": "[encoded data removed]",
      "text/plain": [
       "<Figure size 432x288 with 2 Axes>"
      ]
     },
     "metadata": {
      "needs_background": "light"
     },
     "output_type": "display_data"
    },
    {
     "data": {
      "image/png": "[encoded data removed]",
      "text/plain": [
       "<Figure size 432x288 with 2 Axes>"
      ]
     },
     "metadata": {
      "needs_background": "light"
     },
     "output_type": "display_data"
    }
   ],
   "source": [
    "models = [M1,M2,M3,M4,M5]\n",
    "names = ['M1','M2','M3','M4','M5']\n",
    "\n",
    "for name,model in zip(names,models):\n",
    "\t# print(F'\\n\\nThe Confusion Matrix for model {name}\\n')\n",
    "\tshow_confu_matrix(name,model,val_tokenized)\n",
    "\n",
    "# for name,model in zip(names,models):\n",
    "\n",
    "# \ttable = eval_model(model,val_tokenized)\n",
    "# \tprint(F'\\n\\nThe results for model {name}\\n',table)\n"
   ]
  },
  {
   "cell_type": "markdown",
   "metadata": {},
   "source": [
    "We also take a look at the confusion matrix of each model to validify results."
   ]
  },
  {
   "cell_type": "markdown",
   "metadata": {},
   "source": [
    "### b. Compare all 5 models [5 marks].\n"
   ]
  },
  {
   "cell_type": "code",
   "execution_count": 27,
   "metadata": {},
   "outputs": [
    {
     "name": "stdout",
     "output_type": "stream",
     "text": [
      "The table below compares all the models using the validation dataset\n",
      "\n",
      "+-------+--------------------+----------------------+--------------------+---------------------+\n",
      "| Model |      Accuracy      |       F1 Score       |     Precision      |        Recall       |\n",
      "+-------+--------------------+----------------------+--------------------+---------------------+\n",
      "|   M1  | 0.8859903381642512 |  0.756198347107438   | 0.9945652173913043 |         0.61        |\n",
      "|   M2  | 0.7101449275362319 |         0.0          |        0.0         |         0.0         |\n",
      "|   M3  | 0.7130434782608696 | 0.019801980198019802 |        1.0         |         0.01        |\n",
      "|   M4  | 0.9130434782608695 |      0.82421875      | 0.9952830188679245 |  0.7033333333333334 |\n",
      "|   M5  |  0.81256038647343  |  0.5358851674641149  | 0.9491525423728814 | 0.37333333333333335 |\n",
      "+-------+--------------------+----------------------+--------------------+---------------------+\n"
     ]
    }
   ],
   "source": [
    "table = compare_all_models(models,names,val_tokenized)\n",
    "print('The table below compares all the models using the validation dataset\\n')\n",
    "print(table)"
   ]
  },
  {
   "cell_type": "markdown",
   "metadata": {},
   "source": [
    "As can be seen from the table above all the models have accuracies above 70%, however once we have taken a look at the F1, prediction and recall scores we realise that this accuracy is midleading. Models M2 and M3, do not perform well with regards to F1, prediction and recall scores. This is because when we only look at the 10 or 100 most frequent words some emails do not have any words when they are classified. When further analysis is peformed on these results,  a possible reason that models M2 and M3 do not perform well is because the train dataset is bias to non-spam examples(70% of the emails are not-spam while 30% are spam), thus when we only look at the 10 or 100 most frequent words of the vocabulary it is likely that these words came from the not-spam emails, leaving many of the spam emails without any words. "
   ]
  },
  {
   "cell_type": "markdown",
   "metadata": {},
   "source": [
    "### c. Make a recommendation about which model to use with reasons. [5 marks]\n"
   ]
  },
  {
   "cell_type": "markdown",
   "metadata": {},
   "source": [
    "I would recommend the use of model M4 as it achieved the best results in every metric and would be able to generalise best out of all the models as it did not rely on the frequent words and achieved the highest recall score which is the most important metric here as it would not be that bad if a normal email got flagged as spam(the user would just verify this) but rather it would be a lot worse if spam email did not get flagged and went through undetected as a normal email and caused a lot of harm to the users computer."
   ]
  },
  {
   "cell_type": "markdown",
   "metadata": {},
   "source": [
    "## 5. Now, evaluate all the models with the test set\n"
   ]
  },
  {
   "cell_type": "markdown",
   "metadata": {},
   "source": [
    "### a. Calculate the evaluation metrics [10 marks]."
   ]
  },
  {
   "cell_type": "code",
   "execution_count": 28,
   "metadata": {},
   "outputs": [
    {
     "data": {
      "image/png": "[encoded data removed]",
      "text/plain": [
       "<Figure size 432x288 with 2 Axes>"
      ]
     },
     "metadata": {
      "needs_background": "light"
     },
     "output_type": "display_data"
    },
    {
     "data": {
      "image/png": "[encoded data removed]",
      "text/plain": [
       "<Figure size 432x288 with 2 Axes>"
      ]
     },
     "metadata": {
      "needs_background": "light"
     },
     "output_type": "display_data"
    },
    {
     "data": {
      "image/png": "[encoded data removed]",
      "text/plain": [
       "<Figure size 432x288 with 2 Axes>"
      ]
     },
     "metadata": {
      "needs_background": "light"
     },
     "output_type": "display_data"
    },
    {
     "data": {
      "image/png": "[encoded data removed]",
      "text/plain": [
       "<Figure size 432x288 with 2 Axes>"
      ]
     },
     "metadata": {
      "needs_background": "light"
     },
     "output_type": "display_data"
    },
    {
     "data": {
      "image/png": "[encoded data removed]",
      "text/plain": [
       "<Figure size 432x288 with 2 Axes>"
      ]
     },
     "metadata": {
      "needs_background": "light"
     },
     "output_type": "display_data"
    }
   ],
   "source": [
    "for name,model in zip(names,models):\n",
    "\tshow_confu_matrix(name,model,test_tokenized)"
   ]
  },
  {
   "cell_type": "code",
   "execution_count": 29,
   "metadata": {},
   "outputs": [
    {
     "name": "stdout",
     "output_type": "stream",
     "text": [
      "The table below compares all the models using the test dataset\n",
      "\n",
      "+-------+--------------------+--------------------+--------------------+--------------------+\n",
      "| Model |      Accuracy      |      F1 Score      |     Precision      |       Recall       |\n",
      "+-------+--------------------+--------------------+--------------------+--------------------+\n",
      "|   M1  | 0.8771760154738878 | 0.7315010570824524 |        1.0         | 0.5766666666666667 |\n",
      "|   M2  | 0.7098646034816247 |        0.0         |        0.0         |        0.0         |\n",
      "|   M3  | 0.7098646034816247 |        0.0         |        0.0         |        0.0         |\n",
      "|   M4  | 0.9042553191489362 | 0.8031809145129225 | 0.9950738916256158 | 0.6733333333333333 |\n",
      "|   M5  | 0.8230174081237911 | 0.5673758865248227 | 0.975609756097561  |        0.4         |\n",
      "+-------+--------------------+--------------------+--------------------+--------------------+\n"
     ]
    }
   ],
   "source": [
    "table = compare_all_models(models,names,test_tokenized)\n",
    "print('The table below compares all the models using the test dataset\\n')\n",
    "print(table)"
   ]
  },
  {
   "cell_type": "markdown",
   "metadata": {},
   "source": [
    "### b. Is your recommendation (in 4c above) still is valid? Explain [5 marks]"
   ]
  },
  {
   "cell_type": "markdown",
   "metadata": {},
   "source": [
    "Yes the recommendation of model M4 is still valid as it still achieved the best result out of models M1 to M5 in all the metrics that we tested. However, the recall score has decreased and given the imporatnce of this metric it is vital that we increase it."
   ]
  },
  {
   "cell_type": "markdown",
   "metadata": {},
   "source": [
    "## 6. Implement at least one more variation to improve the performance of the best model. \n",
    "For instance, use frequent n-grams as features. The improvement should be on at least one of the evaluation metrics. Cleary describe the improved model and explain how it is an improvement. [5 marks]\n"
   ]
  },
  {
   "cell_type": "markdown",
   "metadata": {},
   "source": [
    "#### To improve my model I focused on cutting down the feature space of the naive bayes architecture, while focusing on finding more meaningful features. I did this by finding the correlation between the indidivual words and the target label and only choosing the words which had a positive correlation with this label. By only choosing the words which had a positive correlation with the label, we were only choosing the words which had a direct relationship with the target variable and ignoring the words which were harming our predictions, thus meaningfully reducing the feature space."
   ]
  },
  {
   "cell_type": "markdown",
   "metadata": {},
   "source": [
    "First I had to convert our sentences into one-hot encoded vectors. I did this using sklearns MultiLabelBinarizer, now the columns have 1 if a word is present in that email, else 0."
   ]
  },
  {
   "cell_type": "code",
   "execution_count": 78,
   "metadata": {},
   "outputs": [
    {
     "data": {
      "text/html": [
       "<div>\n",
       "<style scoped>\n",
       "    .dataframe tbody tr th:only-of-type {\n",
       "        vertical-align: middle;\n",
       "    }\n",
       "\n",
       "    .dataframe tbody tr th {\n",
       "        vertical-align: top;\n",
       "    }\n",
       "\n",
       "    .dataframe thead th {\n",
       "        text-align: right;\n",
       "    }\n",
       "</style>\n",
       "<table border=\"1\" class=\"dataframe\">\n",
       "  <thead>\n",
       "    <tr style=\"text-align: right;\">\n",
       "      <th></th>\n",
       "      <th>\u0001</th>\n",
       "      <th>\u0005</th>\n",
       "      <th>\u000f</th>\n",
       "      <th>\u0012</th>\n",
       "      <th>\u0013</th>\n",
       "      <th>\u0014</th>\n",
       "      <th>\u0016</th>\n",
       "      <th>0</th>\n",
       "      <th>00</th>\n",
       "      <th>000</th>\n",
       "      <th>...</th>\n",
       "      <th>zyjvit</th>\n",
       "      <th>zykfe</th>\n",
       "      <th>zyqtaqlt</th>\n",
       "      <th>zyrtec</th>\n",
       "      <th>zzezrjok</th>\n",
       "      <th>zzn</th>\n",
       "      <th>zzo</th>\n",
       "      <th>zzocb</th>\n",
       "      <th>zzso</th>\n",
       "      <th>zzsyt</th>\n",
       "    </tr>\n",
       "  </thead>\n",
       "  <tbody>\n",
       "    <tr>\n",
       "      <th>0</th>\n",
       "      <td>0</td>\n",
       "      <td>0</td>\n",
       "      <td>0</td>\n",
       "      <td>0</td>\n",
       "      <td>0</td>\n",
       "      <td>0</td>\n",
       "      <td>0</td>\n",
       "      <td>0</td>\n",
       "      <td>0</td>\n",
       "      <td>0</td>\n",
       "      <td>...</td>\n",
       "      <td>0</td>\n",
       "      <td>0</td>\n",
       "      <td>0</td>\n",
       "      <td>0</td>\n",
       "      <td>0</td>\n",
       "      <td>0</td>\n",
       "      <td>0</td>\n",
       "      <td>0</td>\n",
       "      <td>0</td>\n",
       "      <td>0</td>\n",
       "    </tr>\n",
       "    <tr>\n",
       "      <th>1</th>\n",
       "      <td>0</td>\n",
       "      <td>0</td>\n",
       "      <td>0</td>\n",
       "      <td>0</td>\n",
       "      <td>0</td>\n",
       "      <td>0</td>\n",
       "      <td>0</td>\n",
       "      <td>0</td>\n",
       "      <td>0</td>\n",
       "      <td>1</td>\n",
       "      <td>...</td>\n",
       "      <td>0</td>\n",
       "      <td>0</td>\n",
       "      <td>0</td>\n",
       "      <td>0</td>\n",
       "      <td>0</td>\n",
       "      <td>0</td>\n",
       "      <td>0</td>\n",
       "      <td>0</td>\n",
       "      <td>0</td>\n",
       "      <td>0</td>\n",
       "    </tr>\n",
       "    <tr>\n",
       "      <th>2</th>\n",
       "      <td>0</td>\n",
       "      <td>0</td>\n",
       "      <td>0</td>\n",
       "      <td>0</td>\n",
       "      <td>0</td>\n",
       "      <td>0</td>\n",
       "      <td>0</td>\n",
       "      <td>1</td>\n",
       "      <td>1</td>\n",
       "      <td>0</td>\n",
       "      <td>...</td>\n",
       "      <td>0</td>\n",
       "      <td>0</td>\n",
       "      <td>0</td>\n",
       "      <td>0</td>\n",
       "      <td>0</td>\n",
       "      <td>0</td>\n",
       "      <td>0</td>\n",
       "      <td>0</td>\n",
       "      <td>0</td>\n",
       "      <td>0</td>\n",
       "    </tr>\n",
       "    <tr>\n",
       "      <th>3</th>\n",
       "      <td>0</td>\n",
       "      <td>0</td>\n",
       "      <td>0</td>\n",
       "      <td>0</td>\n",
       "      <td>0</td>\n",
       "      <td>0</td>\n",
       "      <td>0</td>\n",
       "      <td>1</td>\n",
       "      <td>0</td>\n",
       "      <td>0</td>\n",
       "      <td>...</td>\n",
       "      <td>0</td>\n",
       "      <td>0</td>\n",
       "      <td>0</td>\n",
       "      <td>0</td>\n",
       "      <td>0</td>\n",
       "      <td>0</td>\n",
       "      <td>0</td>\n",
       "      <td>0</td>\n",
       "      <td>0</td>\n",
       "      <td>0</td>\n",
       "    </tr>\n",
       "    <tr>\n",
       "      <th>4</th>\n",
       "      <td>0</td>\n",
       "      <td>0</td>\n",
       "      <td>0</td>\n",
       "      <td>0</td>\n",
       "      <td>0</td>\n",
       "      <td>0</td>\n",
       "      <td>0</td>\n",
       "      <td>1</td>\n",
       "      <td>0</td>\n",
       "      <td>0</td>\n",
       "      <td>...</td>\n",
       "      <td>0</td>\n",
       "      <td>0</td>\n",
       "      <td>0</td>\n",
       "      <td>0</td>\n",
       "      <td>0</td>\n",
       "      <td>0</td>\n",
       "      <td>0</td>\n",
       "      <td>0</td>\n",
       "      <td>0</td>\n",
       "      <td>0</td>\n",
       "    </tr>\n",
       "  </tbody>\n",
       "</table>\n",
       "<p>5 rows × 37933 columns</p>\n",
       "</div>"
      ],
      "text/plain": [
       "   \u0001  \u0005  \u000f  \u0012  \u0013  \u0014  \u0016  0  00  000  ...  zyjvit  zykfe  zyqtaqlt  zyrtec  \\\n",
       "0  0  0  0  0  0  0  0  0   0    0  ...       0      0         0       0   \n",
       "1  0  0  0  0  0  0  0  0   0    1  ...       0      0         0       0   \n",
       "2  0  0  0  0  0  0  0  1   1    0  ...       0      0         0       0   \n",
       "3  0  0  0  0  0  0  0  1   0    0  ...       0      0         0       0   \n",
       "4  0  0  0  0  0  0  0  1   0    0  ...       0      0         0       0   \n",
       "\n",
       "   zzezrjok  zzn  zzo  zzocb  zzso  zzsyt  \n",
       "0         0    0    0      0     0      0  \n",
       "1         0    0    0      0     0      0  \n",
       "2         0    0    0      0     0      0  \n",
       "3         0    0    0      0     0      0  \n",
       "4         0    0    0      0     0      0  \n",
       "\n",
       "[5 rows x 37933 columns]"
      ]
     },
     "execution_count": 78,
     "metadata": {},
     "output_type": "execute_result"
    }
   ],
   "source": [
    "mlb = sklearn.preprocessing.MultiLabelBinarizer()\n",
    "train_mlb = pd.DataFrame(mlb.fit_transform([x for x in train_tokenized.text]),columns=mlb.classes_)\n",
    "\n",
    "train_mlb['label'] = train_tokenized['label']\n",
    "\n",
    "train_mlb.head()\n"
   ]
  },
  {
   "cell_type": "markdown",
   "metadata": {},
   "source": [
    "I calculate the correlation of these words with the target label."
   ]
  },
  {
   "cell_type": "code",
   "execution_count": 36,
   "metadata": {},
   "outputs": [],
   "source": [
    "correlations = train_mlb.corrwith(train_mlb['label'])"
   ]
  },
  {
   "cell_type": "markdown",
   "metadata": {},
   "source": [
    "We only choose the positively correlated words."
   ]
  },
  {
   "cell_type": "code",
   "execution_count": 73,
   "metadata": {},
   "outputs": [
    {
     "data": {
      "text/plain": [
       "26176"
      ]
     },
     "execution_count": 73,
     "metadata": {},
     "output_type": "execute_result"
    }
   ],
   "source": [
    "corr_df = correlations.to_frame().rename_axis('Token').reset_index().rename(columns={0:'Corr'})\n",
    "positive_corr_set = corr_df[corr_df['Corr'] > 0 ].Token.unique()\n",
    "\n",
    "len(positive_corr_set)"
   ]
  },
  {
   "cell_type": "code",
   "execution_count": 74,
   "metadata": {},
   "outputs": [],
   "source": [
    "train_tokenized_improved = train_tokenized.copy()\n",
    "train_tokenized_improved['text'] = train_tokenized_improved.text.apply(lambda x: [word for word in x if word in positive_corr_set])\n",
    "M6 = Model(train_tokenized_improved)"
   ]
  },
  {
   "cell_type": "markdown",
   "metadata": {},
   "source": [
    "### The new, improved M6 model has been built and now we can test it."
   ]
  },
  {
   "cell_type": "code",
   "execution_count": 75,
   "metadata": {},
   "outputs": [],
   "source": [
    "test_tokenized_pred =  test_tokenized.copy()\n",
    "test_tokenized_pred['predicted_label'] = test_tokenized_pred.text.apply(lambda x: 1 if M6.predict_class(x)[0] > M6.predict_class(x)[1] else 0)"
   ]
  },
  {
   "cell_type": "code",
   "execution_count": 34,
   "metadata": {},
   "outputs": [
    {
     "data": {
      "text/html": [
       "<table>\n",
       "    <thead>\n",
       "        <tr>\n",
       "            <th>Metric</th>\n",
       "            <th>Value</th>\n",
       "        </tr>\n",
       "    </thead>\n",
       "    <tbody>\n",
       "        <tr>\n",
       "            <td>Accuracy</td>\n",
       "            <td>0.9042553191489362</td>\n",
       "        </tr>\n",
       "        <tr>\n",
       "            <td>F1 Score</td>\n",
       "            <td>0.8031809145129225</td>\n",
       "        </tr>\n",
       "        <tr>\n",
       "            <td>Precision</td>\n",
       "            <td>0.9950738916256158</td>\n",
       "        </tr>\n",
       "        <tr>\n",
       "            <td>Recall</td>\n",
       "            <td>0.6733333333333333</td>\n",
       "        </tr>\n",
       "    </tbody>\n",
       "</table>"
      ],
      "text/plain": [
       "+-----------+--------------------+\n",
       "|   Metric  |       Value        |\n",
       "+-----------+--------------------+\n",
       "|  Accuracy | 0.9042553191489362 |\n",
       "|  F1 Score | 0.8031809145129225 |\n",
       "| Precision | 0.9950738916256158 |\n",
       "|   Recall  | 0.6733333333333333 |\n",
       "+-----------+--------------------+"
      ]
     },
     "execution_count": 34,
     "metadata": {},
     "output_type": "execute_result"
    }
   ],
   "source": [
    "eval_model(M4,test_tokenized)\n"
   ]
  },
  {
   "cell_type": "code",
   "execution_count": 76,
   "metadata": {},
   "outputs": [
    {
     "data": {
      "text/html": [
       "<table>\n",
       "    <thead>\n",
       "        <tr>\n",
       "            <th>Metric</th>\n",
       "            <th>Value</th>\n",
       "        </tr>\n",
       "    </thead>\n",
       "    <tbody>\n",
       "        <tr>\n",
       "            <td>Accuracy</td>\n",
       "            <td>0.9274661508704062</td>\n",
       "        </tr>\n",
       "        <tr>\n",
       "            <td>F1 Score</td>\n",
       "            <td>0.8717948717948718</td>\n",
       "        </tr>\n",
       "        <tr>\n",
       "            <td>Precision</td>\n",
       "            <td>0.8947368421052632</td>\n",
       "        </tr>\n",
       "        <tr>\n",
       "            <td>Recall</td>\n",
       "            <td>0.85</td>\n",
       "        </tr>\n",
       "    </tbody>\n",
       "</table>"
      ],
      "text/plain": [
       "+-----------+--------------------+\n",
       "|   Metric  |       Value        |\n",
       "+-----------+--------------------+\n",
       "|  Accuracy | 0.9274661508704062 |\n",
       "|  F1 Score | 0.8717948717948718 |\n",
       "| Precision | 0.8947368421052632 |\n",
       "|   Recall  |        0.85        |\n",
       "+-----------+--------------------+"
      ]
     },
     "execution_count": 76,
     "metadata": {},
     "output_type": "execute_result"
    }
   ],
   "source": [
    "eval_model(M6,test_tokenized)"
   ]
  },
  {
   "cell_type": "markdown",
   "metadata": {},
   "source": [
    "Ac can be seen from the results above, the M6 model has improved performance in 3 out of the 4 evaluation metrics and most importantly has improved in recall, by almost 20%."
   ]
  }
 ],
 "metadata": {
  "kernelspec": {
   "display_name": "Python 3.9.4 64-bit",
   "language": "python",
   "name": "python3"
  },
  "language_info": {
   "codemirror_mode": {
    "name": "ipython",
    "version": 3
   },
   "file_extension": ".py",
   "mimetype": "text/x-python",
   "name": "python",
   "nbconvert_exporter": "python",
   "pygments_lexer": "ipython3",
   "version": "3.9.4"
  },
  "orig_nbformat": 4,
  "vscode": {
   "interpreter": {
    "hash": "01b0da322a7df2b881bf69dce4c75684d5ac75b853286a49a713693279c2c23c"
   }
  }
 },
 "nbformat": 4,
 "nbformat_minor": 2
}
